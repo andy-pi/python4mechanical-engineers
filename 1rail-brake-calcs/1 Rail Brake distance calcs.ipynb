{
 "cells": [
  {
   "cell_type": "markdown",
   "metadata": {},
   "source": [
    "# Example Scenario #\n",
    "\n",
    "A runaway freight train sped down the hill... before the brakes were applied. The Train Operating Company would like to know if the braking distance complied to Railway Group Standards. \n",
    "Calculate the stopping distance of the train (equivalent for level track), and plot this data point on the GMRT2043 (Appendix A) curve V to show it does not exceed the maximum allowed braking distance.\n",
    "\n",
    "https://www.rssb.co.uk/rgs/standards/GMRT2045%20Iss%204.pdf\n"
   ]
  },
  {
   "cell_type": "markdown",
   "metadata": {},
   "source": [
    "# Data obtained from Onboard Train Monitoring Recorder: #"
   ]
  },
  {
   "cell_type": "code",
   "execution_count": 3,
   "metadata": {},
   "outputs": [],
   "source": [
    "SPEED_1 = 82 # speed at start of brake application (km/h)\n",
    "SPEED_2 = 0 # speed at end of brake application (km/h)\n",
    "TIME_1 = 0\n",
    "TIME_2 = 34\n",
    "DISTANCE_1 = 3295120 # distance at start of brake application (m)\n",
    "DISTANCE_2 = 3295665 # distance at end of brake application (m)\n",
    "GRADIENT = 1/75\n",
    "\n",
    "# Curve V data defined in GMRT2043 Appendix A\n",
    "CURVEV_INITIAL_SPEED = [20, 25, 30, 35, 40, 45, 50, 55, 60, 65, 70] # units: mph\n",
    "CURVEV_DISTANCE = [195, 281, 401, 532, 669, 829, 916, 990, 1058, 1116, 1218] # units: metres"
   ]
  },
  {
   "cell_type": "markdown",
   "metadata": {},
   "source": [
    "# Step 1 - Calculate acceleration due to gravity\n",
    "\n",
    "![Free Body Diagram](fbd.png)"
   ]
  },
  {
   "cell_type": "code",
   "execution_count": 4,
   "metadata": {},
   "outputs": [],
   "source": [
    "import math\n",
    "slopeangle = math.atan(GRADIENT)\n",
    "acceleration_due_to_g = 9.81*(math.sin(slopeangle))"
   ]
  },
  {
   "cell_type": "markdown",
   "metadata": {},
   "source": [
    "# Step 2 - Calculate the average deleration on the slope\n",
    "\n",
    "From equations of motion, solving for a (acceleration)\n",
    "\n",
    "$$v^2 = u^2 + 2as$$\n",
    "\n",
    "$$v^2 - u^2 = 2as$$\n",
    "\n",
    "$$a = \\frac{v^2 - u^2}{2s}$$"
   ]
  },
  {
   "cell_type": "code",
   "execution_count": 5,
   "metadata": {},
   "outputs": [
    {
     "name": "stdout",
     "output_type": "stream",
     "text": [
      "-0.4759882206365388\n"
     ]
    }
   ],
   "source": [
    "deceleration_slope = (((SPEED_2/3.6)**2) - (SPEED_1/3.6)**2)/(2*(DISTANCE_2-DISTANCE_1))\n",
    "print(deceleration_slope)"
   ]
  },
  {
   "cell_type": "markdown",
   "metadata": {},
   "source": [
    "# Step 3 - Calculate equivalent deceleration on level track #"
   ]
  },
  {
   "cell_type": "code",
   "execution_count": 6,
   "metadata": {},
   "outputs": [
    {
     "name": "stdout",
     "output_type": "stream",
     "text": [
      "-0.6067765955198647\n"
     ]
    }
   ],
   "source": [
    "deceleration_on_level = deceleration_slope - acceleration_due_to_g\n",
    "print(deceleration_on_level)"
   ]
  },
  {
   "cell_type": "markdown",
   "metadata": {},
   "source": [
    "# Step 4 - Calculate stopping distance #\n",
    "From equations of motion:\n",
    "\n",
    "$$s=\\frac{v^2-u^2}{2a}$$\n"
   ]
  },
  {
   "cell_type": "code",
   "execution_count": 7,
   "metadata": {},
   "outputs": [
    {
     "name": "stdout",
     "output_type": "stream",
     "text": [
      "427.5273340506109\n"
     ]
    }
   ],
   "source": [
    "stopping_distance = (((SPEED_2/3.6)**2) - (SPEED_1/3.6)**2)/(2*deceleration_on_level)\n",
    "print(stopping_distance)"
   ]
  },
  {
   "cell_type": "markdown",
   "metadata": {},
   "source": [
    "# Step 5 - Plot Curve V from GMRT2043 (Appendix A) and calculated braking distance #"
   ]
  },
  {
   "cell_type": "code",
   "execution_count": 9,
   "metadata": {},
   "outputs": [
    {
     "data": {
      "image/png": "[encoded data removed]",
      "text/plain": [
       "<Figure size 432x288 with 1 Axes>"
      ]
     },
     "metadata": {},
     "output_type": "display_data"
    }
   ],
   "source": [
    "%matplotlib inline\n",
    "import matplotlib\n",
    "import matplotlib.pyplot as plt\n",
    "\n",
    "plt.plot(CURVEV_DISTANCE, CURVEV_INITIAL_SPEED, 'r')\n",
    "plt.plot(stopping_distance, SPEED_1 / 1.61, 'b*')\n",
    "plt.xlabel('Stopping Distance (m)')\n",
    "plt.ylabel('Initial Speed (mph)')\n",
    "plt.title('Compliance of Runaway Freight Train Braking performance to GMRT2043 standard')\n",
    "plt.text(480, 50, 'Braking Event')\n",
    "plt.show()\n",
    "\n"
   ]
  }
 ],
 "metadata": {
  "kernelspec": {
   "display_name": "Python 3",
   "language": "python",
   "name": "python3"
  },
  "language_info": {
   "codemirror_mode": {
    "name": "ipython",
    "version": 3
   },
   "file_extension": ".py",
   "mimetype": "text/x-python",
   "name": "python",
   "nbconvert_exporter": "python",
   "pygments_lexer": "ipython3",
   "version": "3.6.6"
  }
 },
 "nbformat": 4,
 "nbformat_minor": 2
}
